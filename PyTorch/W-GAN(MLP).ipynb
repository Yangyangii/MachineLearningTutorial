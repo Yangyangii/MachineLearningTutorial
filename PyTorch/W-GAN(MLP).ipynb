{
 "cells": [
  {
   "cell_type": "markdown",
   "metadata": {},
   "source": [
    "# Implementation of Wasserstein GANs\n",
    "Reference: https://arxiv.org/pdf/1701.07875.pdf"
   ]
  },
  {
   "cell_type": "code",
   "execution_count": 1,
   "metadata": {
    "collapsed": true
   },
   "outputs": [],
   "source": [
    "import torch\n",
    "import torchvision\n",
    "import torch.nn as nn\n",
    "import torch.nn.functional as F"
   ]
  },
  {
   "cell_type": "code",
   "execution_count": 2,
   "metadata": {
    "collapsed": true
   },
   "outputs": [],
   "source": [
    "from torch.autograd import Variable\n",
    "from torch.utils.data import DataLoader\n",
    "from torchvision import datasets\n",
    "from torchvision import transforms\n",
    "from torchvision.utils import save_image"
   ]
  },
  {
   "cell_type": "code",
   "execution_count": 3,
   "metadata": {
    "collapsed": true
   },
   "outputs": [],
   "source": [
    "def to_cuda(x):\n",
    "    x = Variable(x)\n",
    "    if torch.cuda.is_available():\n",
    "        return x.cuda()\n",
    "    return x"
   ]
  },
  {
   "cell_type": "code",
   "execution_count": 4,
   "metadata": {
    "collapsed": true
   },
   "outputs": [],
   "source": [
    "def to_onehot(x, num_classes=10):\n",
    "    assert isinstance(x, int) or isinstance(x.data, (torch.cuda.LongTensor, torch.LongTensor))    \n",
    "    if isinstance(x, int):\n",
    "        c = to_cuda(torch.zeros(1, num_classes))\n",
    "        c.data[0][x] = 1\n",
    "    else:\n",
    "        c = to_cuda(torch.FloatTensor(x.size(0), num_classes))\n",
    "        c.zero_()\n",
    "        c.scatter_(1, x, 1) # dim, index, src value\n",
    "    return c"
   ]
  },
  {
   "cell_type": "code",
   "execution_count": 5,
   "metadata": {
    "collapsed": true
   },
   "outputs": [],
   "source": [
    "def n_critic(step, nc=5):\n",
    "    if step < 25 or step % 500 == 0:\n",
    "        return 100\n",
    "    return nc"
   ]
  },
  {
   "cell_type": "code",
   "execution_count": 6,
   "metadata": {
    "collapsed": true
   },
   "outputs": [],
   "source": [
    "class Discriminator(nn.Module):\n",
    "    \"\"\"\n",
    "        Convolutional Discriminator for MNIST\n",
    "    \"\"\"\n",
    "    def __init__(self, input_size=784, num_classes=1):\n",
    "        super(Discriminator, self).__init__()\n",
    "        self.layer1 = nn.Sequential(\n",
    "            nn.Linear(input_size, 200),\n",
    "            nn.ReLU(),\n",
    "            nn.Dropout(),\n",
    "        )\n",
    "        self.layer2 = nn.Sequential(\n",
    "            nn.Linear(200, 200),\n",
    "            nn.ReLU(),\n",
    "            nn.Dropout(),\n",
    "        )\n",
    "        self.layer3 = nn.Sequential(\n",
    "            nn.Linear(200, num_classes),\n",
    "        )\n",
    "    \n",
    "    def forward(self, x):\n",
    "        y_ = x.view(x.size(0), -1)\n",
    "        y_ = self.layer1(y_)\n",
    "        y_ = self.layer2(y_)\n",
    "        y_ = self.layer3(y_)\n",
    "        return y_"
   ]
  },
  {
   "cell_type": "code",
   "execution_count": 7,
   "metadata": {
    "collapsed": true
   },
   "outputs": [],
   "source": [
    "class Generator(nn.Module):\n",
    "    \"\"\"\n",
    "        Convolutional Generator for MNIST\n",
    "    \"\"\"\n",
    "    def __init__(self, input_size=100, num_classes=784):\n",
    "        super(Generator, self).__init__()\n",
    "        self.layer = nn.Sequential(\n",
    "            nn.Linear(input_size, 200),\n",
    "            nn.ReLU(),\n",
    "            nn.Linear(200, 200),\n",
    "            nn.ReLU(),\n",
    "            nn.Linear(200, num_classes),\n",
    "            nn.Tanh()\n",
    "        )\n",
    "        \n",
    "    def forward(self, x):\n",
    "        y_ = self.layer(x)\n",
    "        y_ = y_.view(x.size(0), 1, 28, 28)\n",
    "        return y_"
   ]
  },
  {
   "cell_type": "code",
   "execution_count": 8,
   "metadata": {
    "collapsed": true
   },
   "outputs": [],
   "source": [
    "D = Discriminator().cuda()\n",
    "G = Generator().cuda()"
   ]
  },
  {
   "cell_type": "code",
   "execution_count": 9,
   "metadata": {
    "collapsed": true
   },
   "outputs": [],
   "source": [
    "transform = transforms.Compose([transforms.ToTensor(),\n",
    "                                transforms.Normalize(mean=(0.5, 0.5, 0.5),\n",
    "                                std=(0.5, 0.5, 0.5))]\n",
    ")"
   ]
  },
  {
   "cell_type": "code",
   "execution_count": 10,
   "metadata": {
    "collapsed": true
   },
   "outputs": [],
   "source": [
    "mnist = datasets.MNIST(root='../data/', train=True, transform=transform, download=True)"
   ]
  },
  {
   "cell_type": "code",
   "execution_count": 11,
   "metadata": {
    "collapsed": true
   },
   "outputs": [],
   "source": [
    "batch_size = 64"
   ]
  },
  {
   "cell_type": "code",
   "execution_count": 12,
   "metadata": {
    "collapsed": true
   },
   "outputs": [],
   "source": [
    "data_loader = DataLoader(dataset=mnist, batch_size=batch_size, shuffle=True, drop_last=True)"
   ]
  },
  {
   "cell_type": "code",
   "execution_count": 13,
   "metadata": {
    "collapsed": true
   },
   "outputs": [],
   "source": [
    "D_opt = torch.optim.RMSprop(D.parameters(), lr=0.00005)\n",
    "G_opt = torch.optim.RMSprop(G.parameters(), lr=0.00005)"
   ]
  },
  {
   "cell_type": "code",
   "execution_count": 14,
   "metadata": {
    "collapsed": true
   },
   "outputs": [],
   "source": [
    "max_epoch = 100 # need more than 100 epochs for training generator\n",
    "step = 0\n",
    "g_step = 0\n",
    "n_noise = 100"
   ]
  },
  {
   "cell_type": "code",
   "execution_count": 15,
   "metadata": {
    "collapsed": true
   },
   "outputs": [],
   "source": [
    "D_labels = to_cuda(torch.ones(batch_size)) # Discriminator Label to real\n",
    "D_fakes = to_cuda(torch.zeros(batch_size)) # Discriminator Label to fake"
   ]
  },
  {
   "cell_type": "code",
   "execution_count": 16,
   "metadata": {
    "scrolled": true
   },
   "outputs": [
    {
     "name": "stdout",
     "output_type": "stream",
     "text": [
      "Epoch: 1/100, Step: 1000, D Loss: 8.951957702636719, G Loss: 0.5812785029411316\n",
      "Epoch: 2/100, Step: 2000, D Loss: 7.873332500457764, G Loss: 1.6911933422088623\n",
      "Epoch: 3/100, Step: 3000, D Loss: 0.7095146179199219, G Loss: 6.424520492553711\n",
      "Epoch: 4/100, Step: 4000, D Loss: 0.26197004318237305, G Loss: 4.833785533905029\n",
      "Epoch: 5/100, Step: 5000, D Loss: 0.011798381805419922, G Loss: 4.168814659118652\n",
      "Epoch: 6/100, Step: 6000, D Loss: 0.10111021995544434, G Loss: 3.087111234664917\n",
      "Epoch: 7/100, Step: 7000, D Loss: 0.14515209197998047, G Loss: 2.2805087566375732\n",
      "Epoch: 8/100, Step: 8000, D Loss: -0.04920172691345215, G Loss: 2.0345091819763184\n",
      "Epoch: 9/100, Step: 9000, D Loss: -0.01527559757232666, G Loss: 1.6543197631835938\n",
      "Epoch: 10/100, Step: 10000, D Loss: -0.04245328903198242, G Loss: 1.3323910236358643\n",
      "Epoch: 11/100, Step: 11000, D Loss: -0.05783283710479736, G Loss: 1.2323732376098633\n",
      "Epoch: 12/100, Step: 12000, D Loss: -0.04268360137939453, G Loss: 1.183617353439331\n",
      "Epoch: 13/100, Step: 13000, D Loss: 0.13448262214660645, G Loss: 1.237039566040039\n",
      "Epoch: 14/100, Step: 14000, D Loss: 0.13237977027893066, G Loss: 1.2338409423828125\n",
      "Epoch: 16/100, Step: 15000, D Loss: 0.08781218528747559, G Loss: 1.0241715908050537\n",
      "Epoch: 17/100, Step: 16000, D Loss: 0.07047474384307861, G Loss: 0.7947686910629272\n",
      "Epoch: 18/100, Step: 17000, D Loss: 0.23009103536605835, G Loss: 0.7899934649467468\n",
      "Epoch: 19/100, Step: 18000, D Loss: 0.13938522338867188, G Loss: 0.7698806524276733\n",
      "Epoch: 20/100, Step: 19000, D Loss: 0.08137130737304688, G Loss: 0.6354625821113586\n",
      "Epoch: 21/100, Step: 20000, D Loss: 0.1591860055923462, G Loss: 0.48719432950019836\n",
      "Epoch: 22/100, Step: 21000, D Loss: 0.0938166081905365, G Loss: 0.3476114869117737\n",
      "Epoch: 23/100, Step: 22000, D Loss: 0.2291756272315979, G Loss: 0.3952862024307251\n",
      "Epoch: 24/100, Step: 23000, D Loss: 0.17741215229034424, G Loss: 0.49126335978507996\n",
      "Epoch: 25/100, Step: 24000, D Loss: 0.21127313375473022, G Loss: 0.445163756608963\n",
      "Epoch: 26/100, Step: 25000, D Loss: 0.114429771900177, G Loss: 0.47938647866249084\n",
      "Epoch: 27/100, Step: 26000, D Loss: 0.22042182087898254, G Loss: 0.3995204567909241\n",
      "Epoch: 28/100, Step: 27000, D Loss: 0.19755831360816956, G Loss: 0.47694799304008484\n",
      "Epoch: 29/100, Step: 28000, D Loss: 0.13228070735931396, G Loss: 0.5001758337020874\n",
      "Epoch: 30/100, Step: 29000, D Loss: 0.2252735197544098, G Loss: 0.6059423685073853\n",
      "Epoch: 32/100, Step: 30000, D Loss: 0.15891385078430176, G Loss: 0.5658917427062988\n",
      "Epoch: 33/100, Step: 31000, D Loss: 0.2311909794807434, G Loss: 0.46065130829811096\n",
      "Epoch: 34/100, Step: 32000, D Loss: 0.2124749720096588, G Loss: 0.42149579524993896\n",
      "Epoch: 35/100, Step: 33000, D Loss: 0.13584646582603455, G Loss: 0.33784353733062744\n",
      "Epoch: 36/100, Step: 34000, D Loss: 0.1420045793056488, G Loss: 0.37013277411460876\n",
      "Epoch: 37/100, Step: 35000, D Loss: 0.16204585134983063, G Loss: 0.2585097551345825\n",
      "Epoch: 38/100, Step: 36000, D Loss: 0.1340559422969818, G Loss: 0.3170740008354187\n",
      "Epoch: 39/100, Step: 37000, D Loss: 0.1441251039505005, G Loss: 0.2661464512348175\n",
      "Epoch: 40/100, Step: 38000, D Loss: 0.22130584716796875, G Loss: 0.26744192838668823\n",
      "Epoch: 41/100, Step: 39000, D Loss: 0.140716552734375, G Loss: 0.17491084337234497\n",
      "Epoch: 42/100, Step: 40000, D Loss: 0.17832525074481964, G Loss: 0.1885841190814972\n",
      "Epoch: 43/100, Step: 41000, D Loss: 0.2066056728363037, G Loss: 0.33207449316978455\n",
      "Epoch: 44/100, Step: 42000, D Loss: 0.1822994351387024, G Loss: 0.3394073247909546\n",
      "Epoch: 45/100, Step: 43000, D Loss: 0.031574055552482605, G Loss: 0.20373529195785522\n",
      "Epoch: 46/100, Step: 44000, D Loss: 0.10209804773330688, G Loss: 0.1654711663722992\n",
      "Epoch: 48/100, Step: 45000, D Loss: 0.22887776792049408, G Loss: 0.09738541394472122\n",
      "Epoch: 49/100, Step: 46000, D Loss: 0.07699164748191833, G Loss: 0.03199230134487152\n",
      "Epoch: 50/100, Step: 47000, D Loss: 0.15707698464393616, G Loss: 0.09181534498929977\n",
      "Epoch: 51/100, Step: 48000, D Loss: 0.17892101407051086, G Loss: 0.04288802668452263\n",
      "Epoch: 52/100, Step: 49000, D Loss: 0.15193985402584076, G Loss: 0.05676832050085068\n",
      "Epoch: 53/100, Step: 50000, D Loss: 0.1598276048898697, G Loss: -0.02822692133486271\n",
      "Epoch: 54/100, Step: 51000, D Loss: 0.0793735533952713, G Loss: 0.1783548891544342\n",
      "Epoch: 55/100, Step: 52000, D Loss: 0.10854267328977585, G Loss: 0.05728410556912422\n",
      "Epoch: 56/100, Step: 53000, D Loss: 0.15341919660568237, G Loss: 0.05354776233434677\n",
      "Epoch: 57/100, Step: 54000, D Loss: 0.16404548287391663, G Loss: 0.07481463253498077\n",
      "Epoch: 58/100, Step: 55000, D Loss: 0.10436273366212845, G Loss: -0.05016442388296127\n",
      "Epoch: 59/100, Step: 56000, D Loss: 0.11510729789733887, G Loss: 0.06073343753814697\n",
      "Epoch: 60/100, Step: 57000, D Loss: 0.13277970254421234, G Loss: -0.056993067264556885\n",
      "Epoch: 61/100, Step: 58000, D Loss: 0.19771035015583038, G Loss: -0.05538354441523552\n",
      "Epoch: 62/100, Step: 59000, D Loss: 0.15998680889606476, G Loss: 0.03969017043709755\n",
      "Epoch: 64/100, Step: 60000, D Loss: 0.12198056280612946, G Loss: -0.041077081114053726\n",
      "Epoch: 65/100, Step: 61000, D Loss: 0.18114759027957916, G Loss: -0.019350942224264145\n",
      "Epoch: 66/100, Step: 62000, D Loss: 0.16401737928390503, G Loss: 0.003343145828694105\n",
      "Epoch: 67/100, Step: 63000, D Loss: 0.12958434224128723, G Loss: -0.0070438748225569725\n",
      "Epoch: 68/100, Step: 64000, D Loss: 0.15749762952327728, G Loss: -0.058780621737241745\n",
      "Epoch: 69/100, Step: 65000, D Loss: 0.12499929964542389, G Loss: 0.015818972140550613\n",
      "Epoch: 70/100, Step: 66000, D Loss: 0.2077820897102356, G Loss: -0.05116564780473709\n",
      "Epoch: 71/100, Step: 67000, D Loss: 0.1401127576828003, G Loss: -0.025174442678689957\n",
      "Epoch: 72/100, Step: 68000, D Loss: 0.09164820611476898, G Loss: -0.0804223045706749\n",
      "Epoch: 73/100, Step: 69000, D Loss: 0.12930262088775635, G Loss: 0.025034630671143532\n",
      "Epoch: 74/100, Step: 70000, D Loss: 0.13762198388576508, G Loss: 0.017397334799170494\n",
      "Epoch: 75/100, Step: 71000, D Loss: 0.16795609891414642, G Loss: 0.004943405278027058\n",
      "Epoch: 76/100, Step: 72000, D Loss: 0.05336975306272507, G Loss: 0.0629134401679039\n",
      "Epoch: 77/100, Step: 73000, D Loss: 0.07373177260160446, G Loss: -0.014697830192744732\n",
      "Epoch: 78/100, Step: 74000, D Loss: 0.006999514997005463, G Loss: -0.03924330696463585\n",
      "Epoch: 80/100, Step: 75000, D Loss: 0.10088782012462616, G Loss: 0.024159956723451614\n",
      "Epoch: 81/100, Step: 76000, D Loss: 0.21244730055332184, G Loss: 0.029818275943398476\n",
      "Epoch: 82/100, Step: 77000, D Loss: 0.034131553024053574, G Loss: -0.0727849081158638\n",
      "Epoch: 83/100, Step: 78000, D Loss: 0.16901905834674835, G Loss: 0.027103878557682037\n",
      "Epoch: 84/100, Step: 79000, D Loss: 0.12710465490818024, G Loss: 0.021346181631088257\n",
      "Epoch: 85/100, Step: 80000, D Loss: 0.09000029414892197, G Loss: 0.021306876093149185\n",
      "Epoch: 86/100, Step: 81000, D Loss: 0.06949080526828766, G Loss: -0.047855548560619354\n",
      "Epoch: 87/100, Step: 82000, D Loss: 0.03702281415462494, G Loss: -0.12569478154182434\n",
      "Epoch: 88/100, Step: 83000, D Loss: -0.009500604122877121, G Loss: -0.0006922751781530678\n",
      "Epoch: 89/100, Step: 84000, D Loss: 0.04500396549701691, G Loss: -0.0750386118888855\n",
      "Epoch: 90/100, Step: 85000, D Loss: 0.08870453387498856, G Loss: -0.09578841924667358\n",
      "Epoch: 91/100, Step: 86000, D Loss: 0.0722087025642395, G Loss: 0.0012778779491782188\n",
      "Epoch: 92/100, Step: 87000, D Loss: 0.11635537445545197, G Loss: -0.1403212696313858\n",
      "Epoch: 93/100, Step: 88000, D Loss: 0.09471198916435242, G Loss: -0.12529723346233368\n",
      "Epoch: 94/100, Step: 89000, D Loss: 0.10443593561649323, G Loss: -0.09291811287403107\n",
      "Epoch: 96/100, Step: 90000, D Loss: 0.07900821417570114, G Loss: -0.011632312089204788\n",
      "Epoch: 97/100, Step: 91000, D Loss: 0.0974772721529007, G Loss: 0.06097365543246269\n",
      "Epoch: 98/100, Step: 92000, D Loss: 0.03196771442890167, G Loss: 0.1081438958644867\n",
      "Epoch: 99/100, Step: 93000, D Loss: 0.10492410510778427, G Loss: 0.021416036412119865\n"
     ]
    }
   ],
   "source": [
    "for epoch in range(max_epoch):\n",
    "    for idx, (images, labels) in enumerate(data_loader):\n",
    "        step += 1\n",
    "                   \n",
    "        # Training Discriminator\n",
    "        x = to_cuda(images)\n",
    "        x_outputs = D(x)\n",
    "\n",
    "        z = to_cuda(torch.randn(batch_size, n_noise))\n",
    "        z_outputs = D(G(z))\n",
    "        D_x_loss = torch.mean(x_outputs)\n",
    "        D_z_loss = torch.mean(z_outputs)\n",
    "        D_loss = (D_x_loss - D_z_loss) * -1\n",
    "        \n",
    "        D.zero_grad()\n",
    "        D_loss.backward()\n",
    "        D_opt.step()\n",
    "        # Parameter Clipping\n",
    "        for p in D.parameters():\n",
    "            p.data.clamp_(-0.01, 0.01)\n",
    "                    \n",
    "        if step % n_critic(g_step) == 0:\n",
    "            g_step += 1\n",
    "            # Training Generator\n",
    "            z = to_cuda(torch.randn(batch_size, n_noise))\n",
    "            z_outputs = D(G(z))\n",
    "            G_loss = -torch.mean(z_outputs, 0)\n",
    "\n",
    "            D.zero_grad()\n",
    "            G.zero_grad()\n",
    "            G_loss.backward()\n",
    "            G_opt.step()\n",
    "        \n",
    "        if step % 1000 == 0:\n",
    "            print('Epoch: {}/{}, Step: {}, D Loss: {}, G Loss: {}'.format(epoch, max_epoch, step, -D_loss.data[0], -G_loss.data[0]))"
   ]
  },
  {
   "cell_type": "code",
   "execution_count": 17,
   "metadata": {
    "collapsed": true
   },
   "outputs": [],
   "source": [
    "import scipy.misc"
   ]
  },
  {
   "cell_type": "code",
   "execution_count": 32,
   "metadata": {},
   "outputs": [
    {
     "name": "stderr",
     "output_type": "stream",
     "text": [
      "/home/yangyangii/anaconda3/lib/python3.6/site-packages/ipykernel_launcher.py:5: DeprecationWarning: `toimage` is deprecated!\n",
      "`toimage` is deprecated in SciPy 1.0.0, and will be removed in 1.2.0.\n",
      "Use Pillow's ``Image.fromarray`` directly instead.\n",
      "  \"\"\"\n"
     ]
    },
    {
     "data": {
      "image/png": "[encoded data removed]",
      "text/plain": [
       "<PIL.Image.Image image mode=L size=28x28 at 0x7F40AD6F2940>"
      ]
     },
     "execution_count": 32,
     "metadata": {},
     "output_type": "execute_result"
    }
   ],
   "source": [
    "# generation to image\n",
    "z = to_cuda(torch.randn(1, n_noise))\n",
    "fakeimg = G(z).view(28, 28)\n",
    "img = fakeimg.cpu().data.numpy()\n",
    "scipy.misc.toimage(img)"
   ]
  },
  {
   "cell_type": "code",
   "execution_count": 15,
   "metadata": {
    "collapsed": true
   },
   "outputs": [],
   "source": [
    "def save_checkpoint(state, file_name='checkpoint.pth.tar'):\n",
    "    torch.save(state, file_name)"
   ]
  },
  {
   "cell_type": "code",
   "execution_count": 16,
   "metadata": {
    "collapsed": true
   },
   "outputs": [],
   "source": [
    "# Saving params.\n",
    "# torch.save(D.state_dict(), 'D_c.pkl')\n",
    "# torch.save(G.state_dict(), 'G_c.pkl')\n",
    "save_checkpoint({'epoch': epoch + 1, 'state_dict':D.state_dict(), 'optimizer' : D_opt.state_dict()}, 'D_was.pth.tar')\n",
    "save_checkpoint({'epoch': epoch + 1, 'state_dict':G.state_dict(), 'optimizer' : G_opt.state_dict()}, 'G_was.pth.tar')"
   ]
  },
  {
   "cell_type": "code",
   "execution_count": null,
   "metadata": {
    "collapsed": true
   },
   "outputs": [],
   "source": []
  }
 ],
 "metadata": {
  "kernelspec": {
   "display_name": "Python 3",
   "language": "python",
   "name": "python3"
  },
  "language_info": {
   "codemirror_mode": {
    "name": "ipython",
    "version": 3
   },
   "file_extension": ".py",
   "mimetype": "text/x-python",
   "name": "python",
   "nbconvert_exporter": "python",
   "pygments_lexer": "ipython3",
   "version": "3.6.1"
  }
 },
 "nbformat": 4,
 "nbformat_minor": 2
}
